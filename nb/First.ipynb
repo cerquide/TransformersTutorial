{
 "cells": [
  {
   "cell_type": "code",
   "execution_count": 1,
   "id": "70c10d81-222e-4125-b1d8-e1db38627e01",
   "metadata": {},
   "outputs": [
    {
     "name": "stdout",
     "output_type": "stream",
     "text": [
      "The history saving thread hit an unexpected error (OperationalError('attempt to write a readonly database')).History will not be written to the database.\n"
     ]
    },
    {
     "name": "stderr",
     "output_type": "stream",
     "text": [
      "No model was supplied, defaulted to distilbert/distilbert-base-uncased-finetuned-sst-2-english and revision af0f99b (https://huggingface.co/distilbert/distilbert-base-uncased-finetuned-sst-2-english).\n",
      "Using a pipeline without specifying a model name and revision in production is not recommended.\n"
     ]
    }
   ],
   "source": [
    "from transformers import pipeline\n",
    "\n",
    "pipe = pipeline(\"text-classification\")"
   ]
  },
  {
   "cell_type": "code",
   "execution_count": 2,
   "id": "1576f20a-fe9c-415a-9621-a2d02f1adf71",
   "metadata": {},
   "outputs": [
    {
     "name": "stdout",
     "output_type": "stream",
     "text": [
      "[{'label': 'POSITIVE', 'score': 0.9069521427154541}]\n"
     ]
    }
   ],
   "source": [
    "print(pipe(\"El jamón ibérico es bastante bueno\"))"
   ]
  },
  {
   "cell_type": "code",
   "execution_count": 3,
   "id": "fa313928-9f7c-4193-80ce-75876bd77b56",
   "metadata": {},
   "outputs": [
    {
     "name": "stdout",
     "output_type": "stream",
     "text": [
      "[{'label': 'NEGATIVE', 'score': 0.7564005851745605}]\n"
     ]
    }
   ],
   "source": [
    "print(pipe(\"Pero la ternera gallega es lo peor del mundo\"))"
   ]
  },
  {
   "cell_type": "code",
   "execution_count": null,
   "id": "881a171c-6f74-49f9-a9a5-82f7835b2164",
   "metadata": {},
   "outputs": [],
   "source": []
  }
 ],
 "metadata": {
  "kernelspec": {
   "display_name": "Python 3 (ipykernel)",
   "language": "python",
   "name": "python3"
  },
  "language_info": {
   "codemirror_mode": {
    "name": "ipython",
    "version": 3
   },
   "file_extension": ".py",
   "mimetype": "text/x-python",
   "name": "python",
   "nbconvert_exporter": "python",
   "pygments_lexer": "ipython3",
   "version": "3.11.6"
  }
 },
 "nbformat": 4,
 "nbformat_minor": 5
}
